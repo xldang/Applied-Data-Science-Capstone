{
 "cells": [
  {
   "cell_type": "markdown",
   "metadata": {},
   "source": [
    "# Battle of Neighborhoods:Explore the Similarity of Given Metropolitan Cities\n",
    "### Author:x.l.dang@Beijing,China. Feedback Email:xldang2020@gmail.com\n",
    "\n",
    "## Table of contents\n",
    "\n",
    "* [Chapter 1. Battle understanding](#ch1)\n",
    "* [Chapter 2. Data Requirements](#ch2)\n",
    "* [Chapter 3. Data collection](#ch3)\n",
    "    * [3.1 import python dependency packages](#ch3.1)\n",
    "    * [3.2 Geography information of chosen metropolitan cities](#ch3.2)\n",
    "    * [3.3 Venue information of chosen metropolitan cities](#ch3.3)\n",
    "* [Chapter 4. Methodology](#ch4)\n",
    "    * [4.1 Load dataset](#ch4.1)\n",
    "    * [4.2 Modeling](#ch4.2)\n",
    "    * [4.3 Evaluation](#ch4.3)\n",
    "* [Chapter 5. Results](#ch5)\n",
    "* [Chapter 6. Discussion](#ch6)\n",
    "* [Chapter 7. Conclusion](#ch7)\n"
   ]
  },
  {
   "cell_type": "markdown",
   "metadata": {},
   "source": [
    "# Chapter 1. Battle understanding<a name=\"ch1\"></a>\n",
    "\n",
    "In this assignment, I explored New York City ,Toronto and other cities with their respective segmented and clustered neighborhoods. One interesting idea I explored is comparing the neighborhoods of the two cities and determine how similar or dissimilar they are. For example, is New York City more like Toronto or Paris or some other multicultural city?"
   ]
  },
  {
   "cell_type": "markdown",
   "metadata": {},
   "source": [
    "# Chapter 2. Data Requirements<a name=\"ch2\"></a>"
   ]
  },
  {
   "cell_type": "markdown",
   "metadata": {},
   "source": [
    "For given metropolitan cities,I will explore the similarity of them from the perspective of venue distribution.The venues of a city are like human capillaries. Each venue is a small feature of the city. Together, these features can reflect a certain aspect of the city.\n",
    "\n",
    "<img src = \"fig1 city venues.png\" width = 500>\n",
    "\n",
    "<h1 align=center><font size = 3><em>Fig.1</em> City capillaries</font></h1>\n",
    "\n",
    "As shown in **Fig.1**, for a city, I need to collect its neighborhood(or district) data and the Venue data of each neighborhood."
   ]
  },
  {
   "cell_type": "markdown",
   "metadata": {},
   "source": [
    "# Chapter 3. Data collection<a name=\"ch3\"></a>"
   ]
  },
  {
   "cell_type": "markdown",
   "metadata": {},
   "source": [
    "In order to obtain the target data, I executed the following path:\n",
    "\n",
    "- Crawling wiki pages or other pages containing city district information\n",
    "- Perform data cleaning on crawled webpages\n",
    "- Obtain (Latitude,Longitude) infromation for each neighborhood/district using python toolkit <geopy.geocoders.Nominatim>\n",
    "- Extracting venue information for each (Latitude,Longitude) using Python API < FourSquare >\n",
    "- Each city corresponds to a pandas.DataFrame that stores target data."
   ]
  },
  {
   "cell_type": "markdown",
   "metadata": {},
   "source": [
    "## 3.1 import python dependency packages<a name=\"ch3.1\"></a>"
   ]
  },
  {
   "cell_type": "markdown",
   "metadata": {},
   "source": [
    "I need to import:\n",
    "- requests library to handle requests,\n",
    "- pandas library for data analsysis,\n",
    "- numpy library to handle data in a vectorized manner,\n",
    "- geopy.geocoders module to convert an address into latitude and longitude values,\n",
    "- and plotting librarys include seaborn and matplotlib.pyplot."
   ]
  },
  {
   "cell_type": "markdown",
   "metadata": {},
   "source": [
    "## 3.2 Geography information of chosen metropolitan cities<a name=\"ch3.2\"></a>\n",
    "\n",
    "Without any prejudice, I chose Shanghai, London, New York City, Frankfurt, and Toronto from five countries respectively: China, the United Kingdom, the United States, Germany, and Canada.\n",
    "\n",
    "- Shanghai,China\n",
    "- London, the United Kingdom\n",
    "- New York City, the United States\n",
    "- Frankfurt, Germany\n",
    "- Toronto,Canada"
   ]
  },
  {
   "cell_type": "markdown",
   "metadata": {},
   "source": [
    "### 3.2.1 A tiny case\n",
    "\n",
    "**Obtain the (Latitude,Longitude) infromation of location<E1,Head district,London>**"
   ]
  },
  {
   "cell_type": "markdown",
   "metadata": {},
   "source": [
    "*postal_code,district='E1','Head district'  \n",
    "address ='{},{},London'.format(postal_code,district)  \n",
    "geolocator = Nominatim(user_agent=\"foursquare_agent\")  \n",
    "location = geolocator.geocode(address)  \n",
    "latitude = location.latitude  \n",
    "longitude = location.longitude* "
   ]
  },
  {
   "cell_type": "markdown",
   "metadata": {},
   "source": [
    "**Obtain the venue infromation of location (latitude, longitude).**"
   ]
  },
  {
   "cell_type": "markdown",
   "metadata": {},
   "source": [
    "*CLIENT_ID = 'QYHRIW4L1Y5WF2MAPABDG5WNS4CVTPBPM5GJ35W5R02SLMB2' # your Foursquare ID  \n",
    "CLIENT_SECRET = 'SAKZYG1K2PN1Z0V1VXFZZYHQF33DAZBNOTALAHYY0UWPYSL0' # your Foursquare Secret  \n",
    "VERSION = '20180604'  \n",
    "radius=500  \n",
    "LIMIT =  30  \n",
    "url = 'https://api.foursquare.com/v2/venues/explore?&client_id={}&client_secret={}&v={}&ll={},{}&radius={}&limit={}'.format(  \n",
    "            CLIENT_ID,   \n",
    "            CLIENT_SECRET,   \n",
    "            VERSION,   \n",
    "            latitude,   \n",
    "            longitude,   \n",
    "            radius,   \n",
    "            LIMIT)  \n",
    "results = requests.get(url).json()[\"response\"]['groups'][0]['items']  \n",
    "results[0]['venue'] # take a look*  "
   ]
  },
  {
   "cell_type": "markdown",
   "metadata": {},
   "source": [
    "### 3.2.2 Help functions"
   ]
  },
  {
   "cell_type": "markdown",
   "metadata": {},
   "source": [
    "**Generate location by Postal Code:** *gen_location_by_post(post_lis,district_lis,city='')*\n",
    " "
   ]
  },
  {
   "cell_type": "markdown",
   "metadata": {},
   "source": [
    "**Generate location by district name:** *gen_location_by_district(district_lis,city='')*\n"
   ]
  },
  {
   "cell_type": "markdown",
   "metadata": {},
   "source": [
    "**Get Nearby Venues for a certain location(latitudes, longitudes):** *getNearbyVenues(names, latitudes, longitudes,radius,LIMIT)*"
   ]
  },
  {
   "cell_type": "markdown",
   "metadata": {},
   "source": [
    "### 3.2.3 Preparing London geography dataset\n",
    "https://en.wikipedia.org/wiki/London_postal_district\n",
    "\n",
    "**Store the target data in a .csv file by crawling the above URL and read it by pd.read_csv**\n",
    "\n",
    "*Such as London_POST=pd.read_csv('LONDON_POST.csv')*"
   ]
  },
  {
   "cell_type": "markdown",
   "metadata": {
    "collapsed": true
   },
   "source": [
    "**Use gen_location_by_post:**\n",
    "\n",
    "*Location_with_post=gen_location_by_post(London_POST['Postal Code'].values,London_POST['District'].values,'London')*"
   ]
  },
  {
   "cell_type": "markdown",
   "metadata": {},
   "source": [
    "**Merge the Location_with_post and the London_POST like this:**"
   ]
  },
  {
   "cell_type": "markdown",
   "metadata": {},
   "source": [
    "*geo_merged_London=pd.merge(London_POST,Location_with_post,on='Postal Code')*"
   ]
  },
  {
   "cell_type": "markdown",
   "metadata": {},
   "source": [
    "**Then,store data locally like this: **"
   ]
  },
  {
   "cell_type": "markdown",
   "metadata": {},
   "source": [
    "*geo_merged_London.to_csv('geo_merged_London.csv',index=None)*\n",
    "\n",
    "**3.2.4~3.2.7 follow with the same method.**"
   ]
  },
  {
   "cell_type": "markdown",
   "metadata": {},
   "source": [
    "### 3.2.4 Preparing New York geography dataset \n",
    "https://en.wikipedia.org/wiki/Neighborhoods_in_New_York_City\n",
    "\n",
    "**Store the target data in a .html file by crawling the above URL and read it by pd.read_html**"
   ]
  },
  {
   "cell_type": "markdown",
   "metadata": {},
   "source": [
    "### 3.2.5 Preparing Frankfurt geography dataset \n",
    "https://en.wikipedia.org/wiki/List_of_Ortsbezirke_of_Frankfurt_am_Main\n",
    "\n",
    "**Store the target data in a .html file by crawling the above URL**"
   ]
  },
  {
   "cell_type": "markdown",
   "metadata": {},
   "source": [
    "### 3.2.6 Preparing Shanghai geography dataset\n",
    "https://baike.baidu.com/item/%E4%B8%8A%E6%B5%B7%E8%A1%8C%E6%94%BF%E5%8C%BA%E5%88%92/7426389?fr=aladdin\n",
    "\n",
    "Store the target data in a .html file by crawling the above URL"
   ]
  },
  {
   "cell_type": "markdown",
   "metadata": {},
   "source": [
    "### 3.2.7 Preparing Toronto geography dataset\n",
    "https://en.wikipedia.org/wiki/List_of_postal_codes_of_Canada:_M\n",
    "\n",
    "**Since Toronto's data has been obtained in the coursework, it can be used directly here.It store in local<geo_merged_Toronto.csv>**"
   ]
  },
  {
   "cell_type": "markdown",
   "metadata": {},
   "source": [
    "## 3.3  Venue information of chosen metropolitan cities<a name=\"ch3.3\"></a>"
   ]
  },
  {
   "cell_type": "markdown",
   "metadata": {},
   "source": [
    "### 3.3.1 Read prepared geo. dataset"
   ]
  },
  {
   "cell_type": "markdown",
   "metadata": {},
   "source": [
    "**Real local prepared dataset like this:**  \n",
    "*geo_merged_London=pd.read_csv('geo_merged_London.csv')  \n",
    "geo_merged_Torondo=pd.read_csv('geo_merged_Toronto.csv')  \n",
    "geo_merged_NewYork=pd.read_csv('geo_merged_NewYork.csv')  \n",
    "geo_merged_Frankfurt=pd.read_csv('geo_merged_Frankfurt.csv')  \n",
    "geo_merged_SH=pd.read_csv('ShangHai.csv')*  "
   ]
  },
  {
   "cell_type": "markdown",
   "metadata": {},
   "source": [
    "### 3.3.2 Generate district nearby Venues"
   ]
  },
  {
   "cell_type": "markdown",
   "metadata": {},
   "source": [
    "**I use python API to do this:**   \n",
    "*CLIENT_ID = 'QYHRIW4L1Y5WF2MAPABDG5WNS4CVTPBPM5GJ35W5R02SLMB2' # your Foursquare ID  \n",
    "CLIENT_SECRET = 'SAKZYG1K2PN1Z0V1VXFZZYHQF33DAZBNOTALAHYY0UWPYSL0' # your Foursquare Secret  \n",
    "VERSION = '20180604'*  \n",
    "and,the usage of the *getNearbyVenues* is follows this pattern:  "
   ]
  },
  {
   "cell_type": "markdown",
   "metadata": {},
   "source": [
    "*toronto_venues = getNearbyVenues(names=geo_merged_Torondo['District'],  \n",
    "                                   latitudes=geo_merged_Torondo['Latitude'],  \n",
    "                                   longitudes=geo_merged_Torondo['Longitude'],  \n",
    "                                   radius=500,  \n",
    "                                   LIMIT=100  \n",
    "                                  )*  \n"
   ]
  },
  {
   "cell_type": "markdown",
   "metadata": {},
   "source": [
    "### 3.3.3 Venue dataset summary \n",
    "**Take a look at London_venues, it's shown that there $3429$ Venues are collected with total $282$ categories.**"
   ]
  },
  {
   "cell_type": "markdown",
   "metadata": {},
   "source": [
    "# Chapter 4. Methodology<a name=\"ch4\"></a>\n",
    "\n",
    "**In this section, I will calculate the frequency of each venue category in each city. Then the similarity distance of each city can be obtained.**"
   ]
  },
  {
   "cell_type": "markdown",
   "metadata": {},
   "source": [
    "## 4.1 Load dataset <a name=\"ch4.1\"></a>"
   ]
  },
  {
   "cell_type": "markdown",
   "metadata": {},
   "source": [
    "**Read local venue dataset like this:**  \n",
    "*Toronto_venues=pd.read_csv('toronto_venues.csv')  \n",
    "SH_venues=pd.read_csv('SH_venues.csv')  \n",
    "NewYork_venues=pd.read_csv('NewYork_venues.csv')  \n",
    "London_venues=pd.read_csv('London_venues.csv')  \n",
    "Frankfurt_venues=pd.read_csv('Frankfurt_venues.csv')*  \n",
    "\n",
    "**I get these dataset with shape of :**  \n",
    "- Toronto_venues.shape is  (2115, 7)\n",
    "- SH_venues.shape is  (1128, 7)\n",
    "- NewYork_venues.shape is  (4665, 7)\n",
    "- London_venues.shape is  (3429, 7)\n",
    "- Frankfurt_venues.shape is  (1768, 7)"
   ]
  },
  {
   "cell_type": "markdown",
   "metadata": {},
   "source": [
    "## 4.2 Modeling<a name=\"ch4.2\"></a>\n",
    "\n",
    "**Calculate the frequency of each venue category in each city**\n",
    "\n",
    "- Gather all Categories among these five cities and excludes all repeated categories."
   ]
  },
  {
   "cell_type": "markdown",
   "metadata": {},
   "source": [
    "- Calculate frequency by gen_Freqency function :*gen_Freqency(cityName,allCats,dFrame)*"
   ]
  },
  {
   "cell_type": "markdown",
   "metadata": {},
   "source": [
    "- Merge values by pd.concat as follows,  \n",
    "*all_Freq=pd.concat([Shanghai_Freq,London_Freq,NewYork_Freq,Frankfurt_Freq,Toronto_Freq])* "
   ]
  },
  {
   "cell_type": "markdown",
   "metadata": {},
   "source": [
    "## 4.3 Evaluation<a name=\"ch4.3\"></a>\n",
    "\n",
    "**Compute pairwise correlation of cities according to venue category frequency values by pd.DataFrame.corr().** \n",
    "\n",
    "**And the answer is :**"
   ]
  },
  {
   "cell_type": "markdown",
   "metadata": {},
   "source": [
    "<img src = \"corr_ans.png\" width = 500>"
   ]
  },
  {
   "cell_type": "markdown",
   "metadata": {},
   "source": [
    "**Plotting a heatmap correlation matrix by sns.heatmap as follows,**"
   ]
  },
  {
   "cell_type": "markdown",
   "metadata": {},
   "source": [
    "*sns.heatmap(city_corr,annot=True, fmt=\".3f\",cmap=\"YlGnBu\")*"
   ]
  },
  {
   "cell_type": "markdown",
   "metadata": {},
   "source": [
    "**And the figure is shown as Fig.2**  \n",
    "<img src = \"heatmap.png\" width = 500>\n",
    "\n",
    "<center>Fig.2</center>"
   ]
  },
  {
   "cell_type": "markdown",
   "metadata": {},
   "source": [
    "# Chapter 5. Results<a name=\"ch5\"></a>\n",
    "\n",
    "According to *city_corr*,we can find that the similarity of the 5 cities in descending order is:\n",
    "    1. Toronto-London: 0.791 （Correlation coefficient）\n",
    "    2. Toronto-Shanghai:0.730\n",
    "    3. Toronto-NewYork :0.727 \n",
    "    4. NewYork-London: 0.637\n",
    "    5. London-Shanghai:0.636\n",
    "    6. Frankfurt-London:0.612\n",
    "    7. Toronto-Frankfurt:0.574\n",
    "    8. NewYork-Shanghai :0.559\n",
    "    9. Frankfurt-NewYork: 0.544\n",
    "    10. Frankfurt-Shanghai: 0.480"
   ]
  },
  {
   "cell_type": "markdown",
   "metadata": {},
   "source": [
    "# Chapter 6. Discussion <a name=\"ch6\"></a>\n",
    "\n",
    "**Let's take a look at Toronto-London venue frequency dataset to explore something interesting.**"
   ]
  },
  {
   "cell_type": "markdown",
   "metadata": {},
   "source": [
    "**The top ten most frequent venues in Toronto is shown as Fig.3.**  \n",
    "\n",
    "<img src=\"T_freq.png\" width=300>\n",
    "\n",
    "<center>Fig.3</center>"
   ]
  },
  {
   "cell_type": "markdown",
   "metadata": {},
   "source": [
    "**The top ten most frequent venues in London is shown as Fig.4.**  \n",
    "\n",
    "<img src=\"L_freq.png\" width=300>\n",
    "\n",
    "<center>Fig.4</center>"
   ]
  },
  {
   "cell_type": "markdown",
   "metadata": {},
   "source": [
    "**Now, we can intuitively see that the most frequent venues in these two cities are highly similar . This reflects the high similarity in the working environment, lifestyle and entertainment styles of the two cities**"
   ]
  },
  {
   "cell_type": "markdown",
   "metadata": {},
   "source": [
    "# Chapter 7. Conclusion<a name=\"ch7\"></a>\n",
    "\n",
    "\n",
    "For given metropolitan cities,I explored the similarity of them from the perspective of venue distribution. After web crawling, cleaning, feature acquisition and data integration, I obtain the location distribution and category of the venue in each district of a city. I calculated the frequency of the venue category in different cities and generated a correlation matrix between cities.\n",
    "   \n",
    "    \n",
    "I prefer to think that the higher correlation coefficient of the venue occur frequency  represents the higher similarity in the working environment, lifestyle and entertainment styles of the two cities.Therefore,for these five cities I explored in this assignment, **Toronto，Canada and London，the United Kingdom are the most similar, Frankfurt,Germany and Shanghai,China are the least similar.** For other cities in the world,I think my assignment can still be used as an effective solution for calculating city similarity."
   ]
  }
 ],
 "metadata": {
  "kernelspec": {
   "display_name": "Python 3",
   "language": "python",
   "name": "python3"
  },
  "language_info": {
   "codemirror_mode": {
    "name": "ipython",
    "version": 3
   },
   "file_extension": ".py",
   "mimetype": "text/x-python",
   "name": "python",
   "nbconvert_exporter": "python",
   "pygments_lexer": "ipython3",
   "version": "3.7.6"
  }
 },
 "nbformat": 4,
 "nbformat_minor": 4
}
