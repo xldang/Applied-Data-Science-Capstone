{
 "cells": [
  {
   "cell_type": "markdown",
   "metadata": {},
   "source": [
    "# Chapter 4. Methodology\n",
    "\n",
    "<font size=3> **In this section, I will calculate the frequency of each venue category in each city. Then the similarity distance of each city can be obtained.** </font>"
   ]
  },
  {
   "cell_type": "markdown",
   "metadata": {},
   "source": [
    "## 4.1 import python dependency packages"
   ]
  },
  {
   "cell_type": "code",
   "execution_count": 1,
   "metadata": {},
   "outputs": [
    {
     "name": "stdout",
     "output_type": "stream",
     "text": [
      "Libraries imported.\n"
     ]
    }
   ],
   "source": [
    "import requests # library to handle requests\n",
    "import pandas as pd # library for data analsysis\n",
    "import numpy as np # library to handle data in a vectorized manner\n",
    "import random # library for random number generation\n",
    "from string import ascii_letters\n",
    "import seaborn as sns\n",
    "import matplotlib.pyplot as plt\n",
    "\n",
    "print('Libraries imported.')"
   ]
  },
  {
   "cell_type": "markdown",
   "metadata": {},
   "source": [
    "## 4.2 Load dataset"
   ]
  },
  {
   "cell_type": "code",
   "execution_count": 2,
   "metadata": {},
   "outputs": [
    {
     "name": "stdout",
     "output_type": "stream",
     "text": [
      "Toronto_venues.shape is  (2115, 7)\n",
      "SH_venues.shape is  (1128, 7)\n",
      "NewYork_venues.shape is  (4665, 7)\n",
      "London_venues.shape is  (3429, 7)\n",
      "Frankfurt_venues.shape is  (1768, 7)\n"
     ]
    }
   ],
   "source": [
    "Toronto_venues=pd.read_csv('toronto_venues.csv')\n",
    "SH_venues=pd.read_csv('SH_venues.csv')\n",
    "NewYork_venues=pd.read_csv('NewYork_venues.csv')\n",
    "London_venues=pd.read_csv('London_venues.csv')\n",
    "Frankfurt_venues=pd.read_csv('Frankfurt_venues.csv')\n",
    "print('Toronto_venues.shape is ',Toronto_venues.shape)\n",
    "print('SH_venues.shape is ',SH_venues.shape)\n",
    "print('NewYork_venues.shape is ',NewYork_venues.shape)\n",
    "print('London_venues.shape is ',London_venues.shape)\n",
    "print('Frankfurt_venues.shape is ',Frankfurt_venues.shape)"
   ]
  },
  {
   "cell_type": "markdown",
   "metadata": {},
   "source": [
    "## 4.3 Modeling\n",
    "\n",
    "**Calculate the frequency of each venue category in each city**\n",
    "\n",
    "- Gather all Categories among these five cities."
   ]
  },
  {
   "cell_type": "code",
   "execution_count": 3,
   "metadata": {},
   "outputs": [
    {
     "data": {
      "text/plain": [
       "498"
      ]
     },
     "execution_count": 3,
     "metadata": {},
     "output_type": "execute_result"
    }
   ],
   "source": [
    "# All Categories among these five cities.\n",
    "allCats=list(set(Toronto_venues['Venue Category'].values.tolist()+SH_venues['Venue Category'].values.tolist()+NewYork_venues['Venue Category'].values.tolist()+London_venues['Venue Category'].values.tolist()+Frankfurt_venues['Venue Category'].values.tolist()))\n",
    "len(allCats)"
   ]
  },
  {
   "cell_type": "markdown",
   "metadata": {},
   "source": [
    "- Calculate frequency."
   ]
  },
  {
   "cell_type": "code",
   "execution_count": 4,
   "metadata": {},
   "outputs": [],
   "source": [
    "def gen_Freqency(cityName,allCats,dFrame):\n",
    "    ansFrame=pd.DataFrame([[cityName]],columns=['City'])\n",
    "    for cat in allCats:\n",
    "        filterFrame=dFrame[dFrame['Venue Category']==cat]\n",
    "        freq=filterFrame.shape[0]/dFrame.shape[0]\n",
    "        ansFrame[cat]=freq\n",
    "    return ansFrame"
   ]
  },
  {
   "cell_type": "code",
   "execution_count": 5,
   "metadata": {},
   "outputs": [],
   "source": [
    "Toronto_Freq=gen_Freqency('Toronto',allCats,Toronto_venues)"
   ]
  },
  {
   "cell_type": "code",
   "execution_count": 6,
   "metadata": {},
   "outputs": [
    {
     "data": {
      "text/html": [
       "<div>\n",
       "<style scoped>\n",
       "    .dataframe tbody tr th:only-of-type {\n",
       "        vertical-align: middle;\n",
       "    }\n",
       "\n",
       "    .dataframe tbody tr th {\n",
       "        vertical-align: top;\n",
       "    }\n",
       "\n",
       "    .dataframe thead th {\n",
       "        text-align: right;\n",
       "    }\n",
       "</style>\n",
       "<table border=\"1\" class=\"dataframe\">\n",
       "  <thead>\n",
       "    <tr style=\"text-align: right;\">\n",
       "      <th></th>\n",
       "      <th>City</th>\n",
       "      <th>Gelato Shop</th>\n",
       "      <th>Movie Theater</th>\n",
       "      <th>Video Store</th>\n",
       "      <th>Hotel Bar</th>\n",
       "      <th>Park</th>\n",
       "      <th>Tree</th>\n",
       "      <th>Mini Golf</th>\n",
       "      <th>Tibetan Restaurant</th>\n",
       "      <th>Cosmetics Shop</th>\n",
       "      <th>...</th>\n",
       "      <th>Turkish Restaurant</th>\n",
       "      <th>Himalayan Restaurant</th>\n",
       "      <th>Zoo Exhibit</th>\n",
       "      <th>Boxing Gym</th>\n",
       "      <th>Beer Garden</th>\n",
       "      <th>Bowling Alley</th>\n",
       "      <th>Ukrainian Restaurant</th>\n",
       "      <th>Mediterranean Restaurant</th>\n",
       "      <th>Street Food Gathering</th>\n",
       "      <th>Clothing Store</th>\n",
       "    </tr>\n",
       "  </thead>\n",
       "  <tbody>\n",
       "    <tr>\n",
       "      <th>0</th>\n",
       "      <td>Toronto</td>\n",
       "      <td>0.0</td>\n",
       "      <td>0.003783</td>\n",
       "      <td>0.0</td>\n",
       "      <td>0.000946</td>\n",
       "      <td>0.025059</td>\n",
       "      <td>0.0</td>\n",
       "      <td>0.0</td>\n",
       "      <td>0.000473</td>\n",
       "      <td>0.006147</td>\n",
       "      <td>...</td>\n",
       "      <td>0.000473</td>\n",
       "      <td>0.0</td>\n",
       "      <td>0.0</td>\n",
       "      <td>0.0</td>\n",
       "      <td>0.0</td>\n",
       "      <td>0.0</td>\n",
       "      <td>0.0</td>\n",
       "      <td>0.002837</td>\n",
       "      <td>0.0</td>\n",
       "      <td>0.016076</td>\n",
       "    </tr>\n",
       "  </tbody>\n",
       "</table>\n",
       "<p>1 rows × 499 columns</p>\n",
       "</div>"
      ],
      "text/plain": [
       "      City  Gelato Shop  Movie Theater  Video Store  Hotel Bar      Park  \\\n",
       "0  Toronto          0.0       0.003783          0.0   0.000946  0.025059   \n",
       "\n",
       "   Tree  Mini Golf  Tibetan Restaurant  Cosmetics Shop  ...  \\\n",
       "0   0.0        0.0            0.000473        0.006147  ...   \n",
       "\n",
       "   Turkish Restaurant  Himalayan Restaurant  Zoo Exhibit  Boxing Gym  \\\n",
       "0            0.000473                   0.0          0.0         0.0   \n",
       "\n",
       "   Beer Garden  Bowling Alley  Ukrainian Restaurant  Mediterranean Restaurant  \\\n",
       "0          0.0            0.0                   0.0                  0.002837   \n",
       "\n",
       "   Street Food Gathering  Clothing Store  \n",
       "0                    0.0        0.016076  \n",
       "\n",
       "[1 rows x 499 columns]"
      ]
     },
     "execution_count": 6,
     "metadata": {},
     "output_type": "execute_result"
    }
   ],
   "source": [
    "# Take a look\n",
    "Toronto_Freq"
   ]
  },
  {
   "cell_type": "markdown",
   "metadata": {},
   "source": [
    "- Merge values."
   ]
  },
  {
   "cell_type": "code",
   "execution_count": 7,
   "metadata": {},
   "outputs": [],
   "source": [
    "Shanghai_Freq=gen_Freqency('Shanghai',allCats,SH_venues)\n",
    "London_Freq=gen_Freqency('London',allCats,London_venues)\n",
    "NewYork_Freq=gen_Freqency('NewYork',allCats,NewYork_venues)\n",
    "Frankfurt_Freq=gen_Freqency('Frankfurt',allCats,Frankfurt_venues)"
   ]
  },
  {
   "cell_type": "code",
   "execution_count": 8,
   "metadata": {},
   "outputs": [],
   "source": [
    "all_Freq=pd.concat([Shanghai_Freq,London_Freq,NewYork_Freq,Frankfurt_Freq,Toronto_Freq])"
   ]
  },
  {
   "cell_type": "code",
   "execution_count": 9,
   "metadata": {
    "scrolled": true
   },
   "outputs": [
    {
     "data": {
      "text/html": [
       "<div>\n",
       "<style scoped>\n",
       "    .dataframe tbody tr th:only-of-type {\n",
       "        vertical-align: middle;\n",
       "    }\n",
       "\n",
       "    .dataframe tbody tr th {\n",
       "        vertical-align: top;\n",
       "    }\n",
       "\n",
       "    .dataframe thead th {\n",
       "        text-align: right;\n",
       "    }\n",
       "</style>\n",
       "<table border=\"1\" class=\"dataframe\">\n",
       "  <thead>\n",
       "    <tr style=\"text-align: right;\">\n",
       "      <th></th>\n",
       "      <th>Gelato Shop</th>\n",
       "      <th>Movie Theater</th>\n",
       "      <th>Video Store</th>\n",
       "      <th>Hotel Bar</th>\n",
       "      <th>Park</th>\n",
       "      <th>Tree</th>\n",
       "      <th>Mini Golf</th>\n",
       "      <th>Tibetan Restaurant</th>\n",
       "      <th>Cosmetics Shop</th>\n",
       "      <th>Thrift / Vintage Store</th>\n",
       "      <th>...</th>\n",
       "      <th>Turkish Restaurant</th>\n",
       "      <th>Himalayan Restaurant</th>\n",
       "      <th>Zoo Exhibit</th>\n",
       "      <th>Boxing Gym</th>\n",
       "      <th>Beer Garden</th>\n",
       "      <th>Bowling Alley</th>\n",
       "      <th>Ukrainian Restaurant</th>\n",
       "      <th>Mediterranean Restaurant</th>\n",
       "      <th>Street Food Gathering</th>\n",
       "      <th>Clothing Store</th>\n",
       "    </tr>\n",
       "  </thead>\n",
       "  <tbody>\n",
       "    <tr>\n",
       "      <th>Shanghai</th>\n",
       "      <td>0.000000</td>\n",
       "      <td>0.007092</td>\n",
       "      <td>0.001773</td>\n",
       "      <td>0.013298</td>\n",
       "      <td>0.016844</td>\n",
       "      <td>0.000000</td>\n",
       "      <td>0.000000</td>\n",
       "      <td>0.000000</td>\n",
       "      <td>0.000000</td>\n",
       "      <td>0.000000</td>\n",
       "      <td>...</td>\n",
       "      <td>0.002660</td>\n",
       "      <td>0.000000</td>\n",
       "      <td>0.000000</td>\n",
       "      <td>0.000000</td>\n",
       "      <td>0.000887</td>\n",
       "      <td>0.000000</td>\n",
       "      <td>0.000000</td>\n",
       "      <td>0.002660</td>\n",
       "      <td>0.000887</td>\n",
       "      <td>0.013298</td>\n",
       "    </tr>\n",
       "    <tr>\n",
       "      <th>London</th>\n",
       "      <td>0.000583</td>\n",
       "      <td>0.003791</td>\n",
       "      <td>0.000000</td>\n",
       "      <td>0.002333</td>\n",
       "      <td>0.016331</td>\n",
       "      <td>0.000000</td>\n",
       "      <td>0.000292</td>\n",
       "      <td>0.000000</td>\n",
       "      <td>0.003500</td>\n",
       "      <td>0.001458</td>\n",
       "      <td>...</td>\n",
       "      <td>0.008457</td>\n",
       "      <td>0.000292</td>\n",
       "      <td>0.000000</td>\n",
       "      <td>0.001167</td>\n",
       "      <td>0.000292</td>\n",
       "      <td>0.000583</td>\n",
       "      <td>0.000000</td>\n",
       "      <td>0.004374</td>\n",
       "      <td>0.001750</td>\n",
       "      <td>0.018081</td>\n",
       "    </tr>\n",
       "    <tr>\n",
       "      <th>NewYork</th>\n",
       "      <td>0.000000</td>\n",
       "      <td>0.002144</td>\n",
       "      <td>0.000857</td>\n",
       "      <td>0.000429</td>\n",
       "      <td>0.020793</td>\n",
       "      <td>0.000214</td>\n",
       "      <td>0.000000</td>\n",
       "      <td>0.000000</td>\n",
       "      <td>0.008146</td>\n",
       "      <td>0.001929</td>\n",
       "      <td>...</td>\n",
       "      <td>0.001072</td>\n",
       "      <td>0.000000</td>\n",
       "      <td>0.000000</td>\n",
       "      <td>0.000429</td>\n",
       "      <td>0.001501</td>\n",
       "      <td>0.000214</td>\n",
       "      <td>0.000214</td>\n",
       "      <td>0.005573</td>\n",
       "      <td>0.000000</td>\n",
       "      <td>0.006431</td>\n",
       "    </tr>\n",
       "    <tr>\n",
       "      <th>Frankfurt</th>\n",
       "      <td>0.000000</td>\n",
       "      <td>0.000000</td>\n",
       "      <td>0.000000</td>\n",
       "      <td>0.005090</td>\n",
       "      <td>0.029412</td>\n",
       "      <td>0.000000</td>\n",
       "      <td>0.000566</td>\n",
       "      <td>0.001131</td>\n",
       "      <td>0.000000</td>\n",
       "      <td>0.000000</td>\n",
       "      <td>...</td>\n",
       "      <td>0.005656</td>\n",
       "      <td>0.000000</td>\n",
       "      <td>0.000566</td>\n",
       "      <td>0.000566</td>\n",
       "      <td>0.005656</td>\n",
       "      <td>0.002262</td>\n",
       "      <td>0.000000</td>\n",
       "      <td>0.002262</td>\n",
       "      <td>0.000000</td>\n",
       "      <td>0.007353</td>\n",
       "    </tr>\n",
       "    <tr>\n",
       "      <th>Toronto</th>\n",
       "      <td>0.000000</td>\n",
       "      <td>0.003783</td>\n",
       "      <td>0.000000</td>\n",
       "      <td>0.000946</td>\n",
       "      <td>0.025059</td>\n",
       "      <td>0.000000</td>\n",
       "      <td>0.000000</td>\n",
       "      <td>0.000473</td>\n",
       "      <td>0.006147</td>\n",
       "      <td>0.000473</td>\n",
       "      <td>...</td>\n",
       "      <td>0.000473</td>\n",
       "      <td>0.000000</td>\n",
       "      <td>0.000000</td>\n",
       "      <td>0.000000</td>\n",
       "      <td>0.000000</td>\n",
       "      <td>0.000000</td>\n",
       "      <td>0.000000</td>\n",
       "      <td>0.002837</td>\n",
       "      <td>0.000000</td>\n",
       "      <td>0.016076</td>\n",
       "    </tr>\n",
       "  </tbody>\n",
       "</table>\n",
       "<p>5 rows × 498 columns</p>\n",
       "</div>"
      ],
      "text/plain": [
       "           Gelato Shop  Movie Theater  Video Store  Hotel Bar      Park  \\\n",
       "Shanghai      0.000000       0.007092     0.001773   0.013298  0.016844   \n",
       "London        0.000583       0.003791     0.000000   0.002333  0.016331   \n",
       "NewYork       0.000000       0.002144     0.000857   0.000429  0.020793   \n",
       "Frankfurt     0.000000       0.000000     0.000000   0.005090  0.029412   \n",
       "Toronto       0.000000       0.003783     0.000000   0.000946  0.025059   \n",
       "\n",
       "               Tree  Mini Golf  Tibetan Restaurant  Cosmetics Shop  \\\n",
       "Shanghai   0.000000   0.000000            0.000000        0.000000   \n",
       "London     0.000000   0.000292            0.000000        0.003500   \n",
       "NewYork    0.000214   0.000000            0.000000        0.008146   \n",
       "Frankfurt  0.000000   0.000566            0.001131        0.000000   \n",
       "Toronto    0.000000   0.000000            0.000473        0.006147   \n",
       "\n",
       "           Thrift / Vintage Store  ...  Turkish Restaurant  \\\n",
       "Shanghai                 0.000000  ...            0.002660   \n",
       "London                   0.001458  ...            0.008457   \n",
       "NewYork                  0.001929  ...            0.001072   \n",
       "Frankfurt                0.000000  ...            0.005656   \n",
       "Toronto                  0.000473  ...            0.000473   \n",
       "\n",
       "           Himalayan Restaurant  Zoo Exhibit  Boxing Gym  Beer Garden  \\\n",
       "Shanghai               0.000000     0.000000    0.000000     0.000887   \n",
       "London                 0.000292     0.000000    0.001167     0.000292   \n",
       "NewYork                0.000000     0.000000    0.000429     0.001501   \n",
       "Frankfurt              0.000000     0.000566    0.000566     0.005656   \n",
       "Toronto                0.000000     0.000000    0.000000     0.000000   \n",
       "\n",
       "           Bowling Alley  Ukrainian Restaurant  Mediterranean Restaurant  \\\n",
       "Shanghai        0.000000              0.000000                  0.002660   \n",
       "London          0.000583              0.000000                  0.004374   \n",
       "NewYork         0.000214              0.000214                  0.005573   \n",
       "Frankfurt       0.002262              0.000000                  0.002262   \n",
       "Toronto         0.000000              0.000000                  0.002837   \n",
       "\n",
       "           Street Food Gathering  Clothing Store  \n",
       "Shanghai                0.000887        0.013298  \n",
       "London                  0.001750        0.018081  \n",
       "NewYork                 0.000000        0.006431  \n",
       "Frankfurt               0.000000        0.007353  \n",
       "Toronto                 0.000000        0.016076  \n",
       "\n",
       "[5 rows x 498 columns]"
      ]
     },
     "execution_count": 9,
     "metadata": {},
     "output_type": "execute_result"
    }
   ],
   "source": [
    "all_Freq.index=all_Freq['City'].values\n",
    "all_Freq=all_Freq.drop(['City'],axis=1)\n",
    "all_Freq"
   ]
  },
  {
   "cell_type": "markdown",
   "metadata": {},
   "source": [
    "## 4.4 Evaluation\n",
    "\n",
    "**Compute pairwise correlation of cities according to venue category frequency values.**"
   ]
  },
  {
   "cell_type": "code",
   "execution_count": 10,
   "metadata": {},
   "outputs": [
    {
     "data": {
      "text/html": [
       "<div>\n",
       "<style scoped>\n",
       "    .dataframe tbody tr th:only-of-type {\n",
       "        vertical-align: middle;\n",
       "    }\n",
       "\n",
       "    .dataframe tbody tr th {\n",
       "        vertical-align: top;\n",
       "    }\n",
       "\n",
       "    .dataframe thead th {\n",
       "        text-align: right;\n",
       "    }\n",
       "</style>\n",
       "<table border=\"1\" class=\"dataframe\">\n",
       "  <thead>\n",
       "    <tr style=\"text-align: right;\">\n",
       "      <th></th>\n",
       "      <th>Shanghai</th>\n",
       "      <th>London</th>\n",
       "      <th>NewYork</th>\n",
       "      <th>Frankfurt</th>\n",
       "      <th>Toronto</th>\n",
       "    </tr>\n",
       "  </thead>\n",
       "  <tbody>\n",
       "    <tr>\n",
       "      <th>Shanghai</th>\n",
       "      <td>1.000000</td>\n",
       "      <td>0.636168</td>\n",
       "      <td>0.558532</td>\n",
       "      <td>0.480385</td>\n",
       "      <td>0.729699</td>\n",
       "    </tr>\n",
       "    <tr>\n",
       "      <th>London</th>\n",
       "      <td>0.636168</td>\n",
       "      <td>1.000000</td>\n",
       "      <td>0.637411</td>\n",
       "      <td>0.611683</td>\n",
       "      <td>0.791106</td>\n",
       "    </tr>\n",
       "    <tr>\n",
       "      <th>NewYork</th>\n",
       "      <td>0.558532</td>\n",
       "      <td>0.637411</td>\n",
       "      <td>1.000000</td>\n",
       "      <td>0.544476</td>\n",
       "      <td>0.727447</td>\n",
       "    </tr>\n",
       "    <tr>\n",
       "      <th>Frankfurt</th>\n",
       "      <td>0.480385</td>\n",
       "      <td>0.611683</td>\n",
       "      <td>0.544476</td>\n",
       "      <td>1.000000</td>\n",
       "      <td>0.574084</td>\n",
       "    </tr>\n",
       "    <tr>\n",
       "      <th>Toronto</th>\n",
       "      <td>0.729699</td>\n",
       "      <td>0.791106</td>\n",
       "      <td>0.727447</td>\n",
       "      <td>0.574084</td>\n",
       "      <td>1.000000</td>\n",
       "    </tr>\n",
       "  </tbody>\n",
       "</table>\n",
       "</div>"
      ],
      "text/plain": [
       "           Shanghai    London   NewYork  Frankfurt   Toronto\n",
       "Shanghai   1.000000  0.636168  0.558532   0.480385  0.729699\n",
       "London     0.636168  1.000000  0.637411   0.611683  0.791106\n",
       "NewYork    0.558532  0.637411  1.000000   0.544476  0.727447\n",
       "Frankfurt  0.480385  0.611683  0.544476   1.000000  0.574084\n",
       "Toronto    0.729699  0.791106  0.727447   0.574084  1.000000"
      ]
     },
     "execution_count": 10,
     "metadata": {},
     "output_type": "execute_result"
    }
   ],
   "source": [
    "city_corr=all_Freq.T.corr()\n",
    "city_corr"
   ]
  },
  {
   "cell_type": "markdown",
   "metadata": {},
   "source": [
    "**Plotting a heatmap correlation matrix**"
   ]
  },
  {
   "cell_type": "code",
   "execution_count": 11,
   "metadata": {},
   "outputs": [
    {
     "data": {
      "text/plain": [
       "<matplotlib.axes._subplots.AxesSubplot at 0x1cf47a48a88>"
      ]
     },
     "execution_count": 11,
     "metadata": {},
     "output_type": "execute_result"
    },
    {
     "data": {
      "image/png": "[encoded data removed]",
      "text/plain": [
       "<Figure size 432x288 with 2 Axes>"
      ]
     },
     "metadata": {
      "needs_background": "light"
     },
     "output_type": "display_data"
    }
   ],
   "source": [
    "sns.heatmap(city_corr,annot=True, fmt=\".3f\",cmap=\"YlGnBu\")"
   ]
  },
  {
   "cell_type": "markdown",
   "metadata": {},
   "source": [
    "# Chapter 5. Results\n",
    "\n",
    "<font size=3>According to *city_corr*,we can find that the similarity of the 5 cities in descending order is:\n",
    "    1. Toronto-London: 0.791 （Correlation coefficient）\n",
    "    2. Toronto-Shanghai:0.730\n",
    "    3. Toronto-NewYork :0.727 \n",
    "    4. NewYork-London: 0.637\n",
    "    5. London-Shanghai:0.636\n",
    "    6. Frankfurt-London:0.612\n",
    "    7. Toronto-Frankfurt:0.574\n",
    "    8. NewYork-Shanghai :0.559\n",
    "    9. Frankfurt-NewYork: 0.544\n",
    "    10. Frankfurt-Shanghai: 0.480\n",
    "</font>\n"
   ]
  },
  {
   "cell_type": "markdown",
   "metadata": {},
   "source": [
    "# Chapter 6. Discussion \n",
    "\n",
    "Let's take a look at Toronto-London venue frequency dataset to explore something interesting."
   ]
  },
  {
   "cell_type": "code",
   "execution_count": 12,
   "metadata": {},
   "outputs": [
    {
     "data": {
      "text/html": [
       "<div>\n",
       "<style scoped>\n",
       "    .dataframe tbody tr th:only-of-type {\n",
       "        vertical-align: middle;\n",
       "    }\n",
       "\n",
       "    .dataframe tbody tr th {\n",
       "        vertical-align: top;\n",
       "    }\n",
       "\n",
       "    .dataframe thead th {\n",
       "        text-align: right;\n",
       "    }\n",
       "</style>\n",
       "<table border=\"1\" class=\"dataframe\">\n",
       "  <thead>\n",
       "    <tr style=\"text-align: right;\">\n",
       "      <th></th>\n",
       "      <th>coefficient</th>\n",
       "    </tr>\n",
       "  </thead>\n",
       "  <tbody>\n",
       "    <tr>\n",
       "      <th>Coffee Shop</th>\n",
       "      <td>0.085579</td>\n",
       "    </tr>\n",
       "    <tr>\n",
       "      <th>Café</th>\n",
       "      <td>0.043972</td>\n",
       "    </tr>\n",
       "    <tr>\n",
       "      <th>Restaurant</th>\n",
       "      <td>0.031678</td>\n",
       "    </tr>\n",
       "    <tr>\n",
       "      <th>Park</th>\n",
       "      <td>0.025059</td>\n",
       "    </tr>\n",
       "    <tr>\n",
       "      <th>Bakery</th>\n",
       "      <td>0.022222</td>\n",
       "    </tr>\n",
       "    <tr>\n",
       "      <th>Pizza Place</th>\n",
       "      <td>0.021749</td>\n",
       "    </tr>\n",
       "    <tr>\n",
       "      <th>Italian Restaurant</th>\n",
       "      <td>0.021277</td>\n",
       "    </tr>\n",
       "    <tr>\n",
       "      <th>Sandwich Place</th>\n",
       "      <td>0.020331</td>\n",
       "    </tr>\n",
       "    <tr>\n",
       "      <th>Japanese Restaurant</th>\n",
       "      <td>0.019858</td>\n",
       "    </tr>\n",
       "    <tr>\n",
       "      <th>Hotel</th>\n",
       "      <td>0.018440</td>\n",
       "    </tr>\n",
       "  </tbody>\n",
       "</table>\n",
       "</div>"
      ],
      "text/plain": [
       "                     coefficient\n",
       "Coffee Shop             0.085579\n",
       "Café                    0.043972\n",
       "Restaurant              0.031678\n",
       "Park                    0.025059\n",
       "Bakery                  0.022222\n",
       "Pizza Place             0.021749\n",
       "Italian Restaurant      0.021277\n",
       "Sandwich Place          0.020331\n",
       "Japanese Restaurant     0.019858\n",
       "Hotel                   0.018440"
      ]
     },
     "execution_count": 12,
     "metadata": {},
     "output_type": "execute_result"
    }
   ],
   "source": [
    "Toronto_Freq_dis=Toronto_Freq.drop(['City'],axis=1).T\n",
    "Toronto_Freq_dis.columns=['coefficient']\n",
    "Toronto_Freq_dis.sort_values(by=['coefficient'],ascending=False).head(10)"
   ]
  },
  {
   "cell_type": "code",
   "execution_count": 13,
   "metadata": {},
   "outputs": [
    {
     "data": {
      "text/html": [
       "<div>\n",
       "<style scoped>\n",
       "    .dataframe tbody tr th:only-of-type {\n",
       "        vertical-align: middle;\n",
       "    }\n",
       "\n",
       "    .dataframe tbody tr th {\n",
       "        vertical-align: top;\n",
       "    }\n",
       "\n",
       "    .dataframe thead th {\n",
       "        text-align: right;\n",
       "    }\n",
       "</style>\n",
       "<table border=\"1\" class=\"dataframe\">\n",
       "  <thead>\n",
       "    <tr style=\"text-align: right;\">\n",
       "      <th></th>\n",
       "      <th>coefficient</th>\n",
       "    </tr>\n",
       "  </thead>\n",
       "  <tbody>\n",
       "    <tr>\n",
       "      <th>Pub</th>\n",
       "      <td>0.066492</td>\n",
       "    </tr>\n",
       "    <tr>\n",
       "      <th>Coffee Shop</th>\n",
       "      <td>0.063575</td>\n",
       "    </tr>\n",
       "    <tr>\n",
       "      <th>Café</th>\n",
       "      <td>0.054826</td>\n",
       "    </tr>\n",
       "    <tr>\n",
       "      <th>Grocery Store</th>\n",
       "      <td>0.040537</td>\n",
       "    </tr>\n",
       "    <tr>\n",
       "      <th>Hotel</th>\n",
       "      <td>0.031788</td>\n",
       "    </tr>\n",
       "    <tr>\n",
       "      <th>Italian Restaurant</th>\n",
       "      <td>0.024205</td>\n",
       "    </tr>\n",
       "    <tr>\n",
       "      <th>Pizza Place</th>\n",
       "      <td>0.023914</td>\n",
       "    </tr>\n",
       "    <tr>\n",
       "      <th>Gym / Fitness Center</th>\n",
       "      <td>0.022747</td>\n",
       "    </tr>\n",
       "    <tr>\n",
       "      <th>Sandwich Place</th>\n",
       "      <td>0.021289</td>\n",
       "    </tr>\n",
       "    <tr>\n",
       "      <th>Bakery</th>\n",
       "      <td>0.020122</td>\n",
       "    </tr>\n",
       "  </tbody>\n",
       "</table>\n",
       "</div>"
      ],
      "text/plain": [
       "                      coefficient\n",
       "Pub                      0.066492\n",
       "Coffee Shop              0.063575\n",
       "Café                     0.054826\n",
       "Grocery Store            0.040537\n",
       "Hotel                    0.031788\n",
       "Italian Restaurant       0.024205\n",
       "Pizza Place              0.023914\n",
       "Gym / Fitness Center     0.022747\n",
       "Sandwich Place           0.021289\n",
       "Bakery                   0.020122"
      ]
     },
     "execution_count": 13,
     "metadata": {},
     "output_type": "execute_result"
    }
   ],
   "source": [
    "London_Freq_dis=London_Freq.drop(['City'],axis=1).T\n",
    "London_Freq_dis.columns=['coefficient']\n",
    "London_Freq_dis.sort_values(by=['coefficient'],ascending=False).head(10)"
   ]
  },
  {
   "cell_type": "markdown",
   "metadata": {},
   "source": [
    "<font size=3>**Now, we can intuitively see that the most frequent venues in these two cities are highly similar. This reflects the high similarity in the working environment, lifestyle and entertainment styles of the two cities**</font>"
   ]
  },
  {
   "cell_type": "markdown",
   "metadata": {},
   "source": [
    "# Chapter 7. Conclusion\n",
    "\n",
    "<font size=3>\n",
    "    For given metropolitan cities,I explored the similarity of them from the perspective of venue distribution. After web crawling, cleaning, feature acquisition and data integration, I obtain the location distribution and category of the venue in each district of a city. I calculated the frequency of the venue category in different cities and generated a correlation matrix between cities.\n",
    "</font>    \n",
    "    \n",
    "<font size=3>I prefer to think that the higher correlation coefficient of the venue occur frequency  represents the higher similarity in the working environment, lifestyle and entertainment styles of the two cities.Therefore,for these five cities I explored in this assignment, **Toronto，Canada and London，the United Kingdom are the most similar, Frankfurt,Germany and Shanghai,China are the least similar.** For other cities in the world,I think my assignment can still be used as an effective solution for calculating city similarity.\n",
    "</font>"
   ]
  },
  {
   "cell_type": "code",
   "execution_count": null,
   "metadata": {},
   "outputs": [],
   "source": []
  }
 ],
 "metadata": {
  "kernelspec": {
   "display_name": "Python 3",
   "language": "python",
   "name": "python3"
  },
  "language_info": {
   "codemirror_mode": {
    "name": "ipython",
    "version": 3
   },
   "file_extension": ".py",
   "mimetype": "text/x-python",
   "name": "python",
   "nbconvert_exporter": "python",
   "pygments_lexer": "ipython3",
   "version": "3.7.6"
  }
 },
 "nbformat": 4,
 "nbformat_minor": 4
}
